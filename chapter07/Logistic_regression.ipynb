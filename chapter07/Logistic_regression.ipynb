{
 "cells": [
  {
   "cell_type": "markdown",
   "metadata": {
    "toc": true
   },
   "source": [
    "<h1>Table of Contents<span class=\"tocSkip\"></span></h1>\n",
    "<div class=\"toc\"><ul class=\"toc-item\"></ul></div>"
   ]
  },
  {
   "cell_type": "markdown",
   "metadata": {},
   "source": [
    "Logistic regression cost function\n",
    "\n",
    "$$\n",
    "J(\\theta) = \\frac{1}{m}\\sum_{i=1}^{m}{Cost(h_\\theta(x^{(i)}),y^{(i)})}\n",
    "$$\n",
    "\n",
    "其中的$h_\\theta(x)对应的公式为$\n",
    "\n",
    "$$\n",
    "h_\\theta(x) = \\frac{1}{1+e^{{-\\theta^T}X}}\n",
    "$$\n",
    "\n",
    "其中$Cost(h_\\theta(x),y)$展开为\n",
    "\n",
    "$$\n",
    "\\\n",
    "Cost(h_\\theta(x),y) =  \\left\\{\n",
    "    \\begin{array}{lr}\n",
    "     -log(h_\\theta(x)) & \\text {if y = 1} \\\\\n",
    "     -log(1-h_\\theta(x)) & \\text {if y = 0}\n",
    "    \\end{array}\n",
    "\\right.\n",
    "\\\n",
    "$$\n",
    "\n",
    "*注意这里y的取值为0或1,不存在其他情况*\n",
    "\n",
    "为了方便推导出梯度下降函数,这里对cost函数进行变化整理成一行可以表达的如下\n",
    "\n",
    "$$\n",
    "Cost(h_\\theta(x),y) = -ylog(h_\\theta(x)) - (1-y)log(1-h_\\theta(x))\n",
    "$$\n",
    "\n",
    "*上边的公式可以分别将$y=1$和$y=0$代入进行验证:*  \n",
    "\n",
    "$y=1$时公式第二部分由于$1-y=0$而消失,只剩下前半部分与之前的公式$y=1$时相符\n",
    "\n",
    "$y=0$时公式第一部分由于$y=0$而消失,只剩下后半部分,与之前的公式$y=0$时相符\n",
    "\n",
    "经过上边的推导后逻辑回归的代价函数为\n",
    "$$\n",
    "J(\\theta) = -\\frac{1}{m}[\\sum_{i=1}^{m}{y^{(i)}log(h_\\theta(x^{(i)})) + (1-y^{(i)})log(1-h_\\theta(x^{(i)}))}]\n",
    "$$"
   ]
  },
  {
   "cell_type": "markdown",
   "metadata": {},
   "source": [
    "梯度下降函数其实就是对代价函数(cost function)进行求导数并循环更新,对上边的$J(\\theta)$进行求导并代入梯度下降公式后得到$min_\\theta{J(\\theta)}$的梯度下降函数如下\n",
    "\n",
    "$$\n",
    "\\theta_j := \\theta_j - \\alpha \\sum_{i=1}^{m}{(h_\\theta(x^{(i)}) - y^{(i)})x_j^{(i)}}\n",
    "$$"
   ]
  }
 ],
 "metadata": {
  "kernelspec": {
   "display_name": "Python 3",
   "language": "python",
   "name": "python3"
  },
  "language_info": {
   "codemirror_mode": {
    "name": "ipython",
    "version": 3
   },
   "file_extension": ".py",
   "mimetype": "text/x-python",
   "name": "python",
   "nbconvert_exporter": "python",
   "pygments_lexer": "ipython3",
   "version": "3.6.7"
  },
  "toc": {
   "base_numbering": 1,
   "nav_menu": {},
   "number_sections": true,
   "sideBar": true,
   "skip_h1_title": false,
   "title_cell": "Table of Contents",
   "title_sidebar": "Contents",
   "toc_cell": true,
   "toc_position": {},
   "toc_section_display": true,
   "toc_window_display": false
  }
 },
 "nbformat": 4,
 "nbformat_minor": 2
}
