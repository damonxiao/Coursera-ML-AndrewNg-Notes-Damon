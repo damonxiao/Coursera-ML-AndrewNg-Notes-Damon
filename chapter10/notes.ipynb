{
 "cells": [
  {
   "cell_type": "markdown",
   "metadata": {
    "toc": true
   },
   "source": [
    "<h1>Table of Contents<span class=\"tocSkip\"></span></h1>\n",
    "<div class=\"toc\"><ul class=\"toc-item\"><li><span><a href=\"#梯度检测\" data-toc-modified-id=\"梯度检测-1\"><span class=\"toc-item-num\">1&nbsp;&nbsp;</span>梯度检测</a></span><ul class=\"toc-item\"><li><span><a href=\"#梯度函数导数的数学推导\" data-toc-modified-id=\"梯度函数导数的数学推导-1.1\"><span class=\"toc-item-num\">1.1&nbsp;&nbsp;</span>梯度函数导数的数学推导</a></span></li></ul></li><li><span><a href=\"#神经网络结构的选择\" data-toc-modified-id=\"神经网络结构的选择-2\"><span class=\"toc-item-num\">2&nbsp;&nbsp;</span>神经网络结构的选择</a></span></li><li><span><a href=\"#训练神经网络(neural-network)的步骤\" data-toc-modified-id=\"训练神经网络(neural-network)的步骤-3\"><span class=\"toc-item-num\">3&nbsp;&nbsp;</span>训练神经网络(neural network)的步骤</a></span></li></ul></div>"
   ]
  },
  {
   "cell_type": "markdown",
   "metadata": {},
   "source": [
    "# 梯度检测"
   ]
  },
  {
   "cell_type": "markdown",
   "metadata": {},
   "source": [
    "## 梯度函数导数的数学推导"
   ]
  },
  {
   "cell_type": "markdown",
   "metadata": {},
   "source": [
    "* 单侧差分公式\n",
    "$$\n",
    "\\frac{\\delta}{\\delta\\Theta}J(\\Theta) \\approx\n",
    "\\frac{J(\\Theta + \\epsilon)-J(\\Theta)}{\\epsilon}\n",
    "$$\n",
    "* 双侧差分公式\n",
    "$$\n",
    "\\frac{\\delta}{\\delta\\Theta}J(\\Theta) \\approx\n",
    "\\frac{J(\\Theta + \\epsilon)-J(\\Theta - \\epsilon) }{2\\epsilon}\n",
    "$$\n",
    "\n",
    "**由于数学上来讲单侧差分公式的精度没有双侧差分的精度高，故大多时选用双侧差分公式来使用**  \n",
    "对应的课程截图如下\n",
    "![](../images/numerical_estimation_of_gradients.png)"
   ]
  },
  {
   "cell_type": "markdown",
   "metadata": {},
   "source": [
    "反向传播计算得到的dVec如果和梯度函数的导数值很接近,则认为梯度检测成功"
   ]
  },
  {
   "cell_type": "markdown",
   "metadata": {},
   "source": [
    "# 神经网络结构的选择"
   ]
  },
  {
   "cell_type": "markdown",
   "metadata": {},
   "source": [
    "**神经网络由1个输入层(input layer),若干隐藏层(hiden layer),1个输出层(output layer)组成**\n",
    "* 1. 输出层的单元数一个由输入的特征的维度决定(等于维数)\n",
    "* 2. 隐藏层的个数和单元数理论上越多越好,但是隐藏层的增加会带来计算效率的降低,需权衡,最简单的结构是只有一个隐藏层  \n",
    "*对于隐藏层数大于1时,每个隐藏层的单元数相等*\n",
    "* 3. 隐藏层的单元数与输入层的特征数相关,通常为特征数的倍数,但是隐藏层单元数的增加会带来计算效率降低的问题\n",
    "* 4. 输出层的单元数由多分类的类别数决定(等于类别数)\n",
    "\n",
    "*注意:梯度下降算法目的是通过不断的更新$\\Theta$求出某一组数据的局部最优解,而反向传播算法的意义在于计算出梯度下降算法在执行时的更新方向*"
   ]
  },
  {
   "cell_type": "markdown",
   "metadata": {},
   "source": [
    "# 训练神经网络(neural network)的步骤"
   ]
  },
  {
   "cell_type": "markdown",
   "metadata": {},
   "source": [
    "* 1. 随机的初始化权重(weights),初始化为接近于零的很小的一组值\n",
    "* 2. 对于输入的$(x^{(i)})$实现前向传播算法的$h_\\Theta(x^{(i)})$\n",
    "* 3. 实现cost function(代价函数)的代码\n",
    "* 4. 实现反向传播算法(back-pro或叫back-propagation)来计算偏导数$\\frac{\\partial}{\\partial\\Theta_jk^{(i)}}J(\\Theta)$  \n",
    "***使用反向传播算法,一般需要对所有的训练样本进行一个for循环的遍历,不一定非是循环,也可以向量化来优化计算***\n",
    "* 5. 使用梯度检查已经计算把用反向传播得到的偏导数值和用数值方法得到的估计值进行比较,确保两种方法得到的两个值接近,以证明我们的反向传播算法得到的结果是正确的.\n",
    "***在验证反向传播算法有效后,需要禁止掉梯度检查,因为梯度检查会极大的影响代码的运行效率***  \n",
    "* 6. 使用梯度下降算法或是其他高级的算法,如LBFGS算法或共轭梯度法与反向传播算法相结合来计算$J(\\Theta)$的最小值"
   ]
  }
 ],
 "metadata": {
  "hide_input": false,
  "kernelspec": {
   "display_name": "tfpy3",
   "language": "python",
   "name": "tfpy3"
  },
  "language_info": {
   "codemirror_mode": {
    "name": "ipython",
    "version": 3
   },
   "file_extension": ".py",
   "mimetype": "text/x-python",
   "name": "python",
   "nbconvert_exporter": "python",
   "pygments_lexer": "ipython3",
   "version": "3.6.2"
  },
  "latex_envs": {
   "LaTeX_envs_menu_present": true,
   "autoclose": false,
   "autocomplete": true,
   "bibliofile": "biblio.bib",
   "cite_by": "apalike",
   "current_citInitial": 1,
   "eqLabelWithNumbers": true,
   "eqNumInitial": 1,
   "hotkeys": {
    "equation": "Ctrl-E",
    "itemize": "Ctrl-I"
   },
   "labels_anchors": false,
   "latex_user_defs": false,
   "report_style_numbering": false,
   "user_envs_cfg": false
  },
  "notify_time": "5",
  "toc": {
   "base_numbering": 1,
   "nav_menu": {},
   "number_sections": true,
   "sideBar": true,
   "skip_h1_title": false,
   "title_cell": "Table of Contents",
   "title_sidebar": "Contents",
   "toc_cell": true,
   "toc_position": {},
   "toc_section_display": true,
   "toc_window_display": false
  },
  "varInspector": {
   "cols": {
    "lenName": 16,
    "lenType": 16,
    "lenVar": 40
   },
   "kernels_config": {
    "python": {
     "delete_cmd_postfix": "",
     "delete_cmd_prefix": "del ",
     "library": "var_list.py",
     "varRefreshCmd": "print(var_dic_list())"
    },
    "r": {
     "delete_cmd_postfix": ") ",
     "delete_cmd_prefix": "rm(",
     "library": "var_list.r",
     "varRefreshCmd": "cat(var_dic_list()) "
    }
   },
   "types_to_exclude": [
    "module",
    "function",
    "builtin_function_or_method",
    "instance",
    "_Feature"
   ],
   "window_display": false
  }
 },
 "nbformat": 4,
 "nbformat_minor": 2
}
