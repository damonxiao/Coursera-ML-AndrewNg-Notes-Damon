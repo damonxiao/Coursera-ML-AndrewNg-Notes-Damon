{
 "cells": [
  {
   "cell_type": "code",
   "execution_count": 1,
   "metadata": {
    "ExecuteTime": {
     "end_time": "2019-03-18T06:48:33.875025Z",
     "start_time": "2019-03-18T06:48:31.953481Z"
    }
   },
   "outputs": [
    {
     "name": "stdout",
     "output_type": "stream",
     "text": [
      "WARNING:tensorflow:From <ipython-input-1-55972c9905c0>:13: read_data_sets (from tensorflow.contrib.learn.python.learn.datasets.mnist) is deprecated and will be removed in a future version.\n",
      "Instructions for updating:\n",
      "Please use alternatives such as official/mnist/dataset.py from tensorflow/models.\n",
      "WARNING:tensorflow:From /home/xiaofang/anaconda3/envs/tfpy3/lib/python3.6/site-packages/tensorflow/contrib/learn/python/learn/datasets/mnist.py:260: maybe_download (from tensorflow.contrib.learn.python.learn.datasets.base) is deprecated and will be removed in a future version.\n",
      "Instructions for updating:\n",
      "Please write your own downloading logic.\n",
      "WARNING:tensorflow:From /home/xiaofang/anaconda3/envs/tfpy3/lib/python3.6/site-packages/tensorflow/contrib/learn/python/learn/datasets/mnist.py:262: extract_images (from tensorflow.contrib.learn.python.learn.datasets.mnist) is deprecated and will be removed in a future version.\n",
      "Instructions for updating:\n",
      "Please use tf.data to implement this functionality.\n",
      "Extracting MNIST_data/train-images-idx3-ubyte.gz\n",
      "WARNING:tensorflow:From /home/xiaofang/anaconda3/envs/tfpy3/lib/python3.6/site-packages/tensorflow/contrib/learn/python/learn/datasets/mnist.py:267: extract_labels (from tensorflow.contrib.learn.python.learn.datasets.mnist) is deprecated and will be removed in a future version.\n",
      "Instructions for updating:\n",
      "Please use tf.data to implement this functionality.\n",
      "Extracting MNIST_data/train-labels-idx1-ubyte.gz\n",
      "WARNING:tensorflow:From /home/xiaofang/anaconda3/envs/tfpy3/lib/python3.6/site-packages/tensorflow/contrib/learn/python/learn/datasets/mnist.py:110: dense_to_one_hot (from tensorflow.contrib.learn.python.learn.datasets.mnist) is deprecated and will be removed in a future version.\n",
      "Instructions for updating:\n",
      "Please use tf.one_hot on tensors.\n",
      "Extracting MNIST_data/t10k-images-idx3-ubyte.gz\n",
      "Extracting MNIST_data/t10k-labels-idx1-ubyte.gz\n",
      "WARNING:tensorflow:From /home/xiaofang/anaconda3/envs/tfpy3/lib/python3.6/site-packages/tensorflow/contrib/learn/python/learn/datasets/mnist.py:290: DataSet.__init__ (from tensorflow.contrib.learn.python.learn.datasets.mnist) is deprecated and will be removed in a future version.\n",
      "Instructions for updating:\n",
      "Please use alternatives such as official/mnist/dataset.py from tensorflow/models.\n"
     ]
    }
   ],
   "source": [
    "#!/usr/bin/env python3\n",
    "# -*- coding: utf-8 -*-\n",
    "\"\"\"\n",
    "Created on Fri Mar 15 10:59:59 2019\n",
    "\n",
    "@author: xiaofang\n",
    "\"\"\"\n",
    "\n",
    "import tensorflow as tf\n",
    "import numpy as np\n",
    "import matplotlib.pyplot as plt\n",
    "from tensorflow.examples.tutorials.mnist import input_data\n",
    "mnist = input_data.read_data_sets(\"MNIST_data/\", one_hot=True)\n",
    "\n",
    "tf.reset_default_graph()"
   ]
  },
  {
   "cell_type": "code",
   "execution_count": 2,
   "metadata": {
    "ExecuteTime": {
     "end_time": "2019-03-18T06:49:04.738886Z",
     "start_time": "2019-03-18T06:48:54.563128Z"
    }
   },
   "outputs": [
    {
     "name": "stdout",
     "output_type": "stream",
     "text": [
      "WARNING:tensorflow:From /home/xiaofang/anaconda3/envs/tfpy3/lib/python3.6/site-packages/tensorflow/python/framework/op_def_library.py:263: colocate_with (from tensorflow.python.framework.ops) is deprecated and will be removed in a future version.\n",
      "Instructions for updating:\n",
      "Colocations handled automatically by placer.\n",
      "b: <tf.Variable 'Variable_1:0' shape=(10,) dtype=float32_ref> W.shape: (784, 10)\n",
      "WARNING:tensorflow:From /home/xiaofang/anaconda3/envs/tfpy3/lib/python3.6/site-packages/tensorflow/python/ops/math_ops.py:3066: to_int32 (from tensorflow.python.ops.math_ops) is deprecated and will be removed in a future version.\n",
      "Instructions for updating:\n",
      "Use tf.cast instead.\n",
      "Eopch: 0 avg_cost: 0.010666568\n",
      "Eopch: 1 avg_cost: 0.006381114\n",
      "Eopch: 2 avg_cost: 0.004025166\n",
      "Eopch: 3 avg_cost: 0.004098273\n",
      "Eopch: 4 avg_cost: 0.003392172\n",
      "Eopch: 5 avg_cost: 0.003124014\n",
      "Eopch: 6 avg_cost: 0.002670888\n",
      "Eopch: 7 avg_cost: 0.002824862\n",
      "Eopch: 8 avg_cost: 0.002083937\n",
      "Eopch: 9 avg_cost: 0.002732270\n",
      "Eopch: 10 avg_cost: 0.002165583\n",
      "Eopch: 11 avg_cost: 0.001899385\n",
      "Eopch: 12 avg_cost: 0.002492230\n",
      "Eopch: 13 avg_cost: 0.001227481\n",
      "Eopch: 14 avg_cost: 0.002029829\n",
      "Eopch: 15 avg_cost: 0.002270788\n",
      "Eopch: 16 avg_cost: 0.001150830\n",
      "Eopch: 17 avg_cost: 0.002140070\n",
      "Eopch: 18 avg_cost: 0.001603760\n",
      "Eopch: 19 avg_cost: 0.002614030\n",
      "Train finished!\n",
      "Accuracy: 0.811\n",
      "Model saved in file:log/mnist_model/mnist_model.ckpt\n"
     ]
    }
   ],
   "source": [
    "\n",
    "# 模型\n",
    "x = tf.placeholder(tf.float32, [None, 784])\n",
    "y = tf.placeholder(tf.float32, [None, 10])\n",
    "\n",
    "# 模型参数\n",
    "W = tf.Variable(tf.random_normal([784, 10])) # 正态分布的[784,10]的矩阵\n",
    "b = tf.Variable(tf.zeros([10]))\n",
    "print(\"b:\", b, \"W.shape:\", W.shape)\n",
    "\n",
    "# 正向传播的定义\n",
    "pred = tf.nn.softmax(tf.matmul(x, W) + b)\n",
    "\n",
    "# cost, 反向传播 的定义 ,将生成的pred与样本标签y进行一次交叉熵运算最小化误差cost\n",
    "cost = tf.reduce_mean(-tf.reduce_sum(y*tf.log(pred), reduction_indices=1))\n",
    "\n",
    "# 参数 学习率 \n",
    "learning_rate = 0.01\n",
    "\n",
    "# 梯度下降优化cost\n",
    "optimizer = tf.train.GradientDescentOptimizer(learning_rate).minimize(cost)\n",
    "\n",
    "# 训练参数\n",
    "training_epochs = 20\n",
    "display_step = 1\n",
    "batch_size = 100\n",
    "\n",
    "saver = tf.train.Saver()\n",
    "model_path = \"log/mnist_model/mnist_model.ckpt\"\n",
    "\n",
    "#启动session\n",
    "with tf.Session() as sess:\n",
    "    sess.run(tf.global_variables_initializer())\n",
    "    \n",
    "    for epoch in range(training_epochs):\n",
    "        avg_cost = 0\n",
    "        total_batch = int(mnist.train.num_examples/batch_size)#每一轮训练多少批次\n",
    "        \n",
    "        # 遍历全部数据集\n",
    "        for i in range(total_batch):\n",
    "            # Run optimization op (backprop) and cost op (to get loss value)\n",
    "            batch_xs, batch_ys = mnist.train.next_batch(batch_size)\n",
    "            _,c = sess.run([optimizer, cost], feed_dict={x: batch_xs, y: batch_ys})\n",
    "             # 计算平均值以使误差值更加平均\n",
    "            avg_cost = c / total_batch\n",
    "#            print(\"I:\",i,\"eopch:\", epoch +1, \"avg_cost:\", avg_cost)\n",
    "        # 显示训练中的详细信息\n",
    "        if epoch % display_step == 0:\n",
    "            print(\"Eopch:\", epoch, \"avg_cost:\", \"{:.9f}\".format(avg_cost))\n",
    "    \n",
    "    print(\"Train finished!\")\n",
    "    \n",
    "    # 测试模型\n",
    "    correct_prediction = tf.equal(tf.argmax(pred, 1), tf.argmax(y, 1))\n",
    "    # 计算准确 率\n",
    "    accuracy = tf.reduce_mean(tf.cast(correct_prediction, tf.float32))\n",
    "    print(\"Accuracy:\", accuracy.eval({x: mnist.test.images, y: mnist.test.labels}))\n",
    "    \n",
    "    # 存储模型 \n",
    "    save_path = saver.save(sess, model_path)\n",
    "    print(\"Model saved in file:%s\" % save_path)"
   ]
  },
  {
   "cell_type": "code",
   "execution_count": 3,
   "metadata": {
    "ExecuteTime": {
     "end_time": "2019-03-18T06:49:14.074385Z",
     "start_time": "2019-03-18T06:49:12.833437Z"
    }
   },
   "outputs": [
    {
     "name": "stdout",
     "output_type": "stream",
     "text": [
      "Starting 2nd session...\n",
      "WARNING:tensorflow:From /home/xiaofang/anaconda3/envs/tfpy3/lib/python3.6/site-packages/tensorflow/python/training/saver.py:1266: checkpoint_exists (from tensorflow.python.training.checkpoint_management) is deprecated and will be removed in a future version.\n",
      "Instructions for updating:\n",
      "Use standard file APIs to check for files with this prefix.\n",
      "INFO:tensorflow:Restoring parameters from log/mnist_model/mnist_model.ckpt\n",
      "Accuracy: 0.811\n",
      "outputval: [0 7 4 8 1 7 8 2 8 7] predv: [[9.99901295e-01 2.27738249e-12 6.42194493e-07 1.60793073e-10\n",
      "  7.79886520e-08 2.27697565e-05 8.52970231e-07 5.54408949e-12\n",
      "  7.42961420e-05 6.86024208e-13]\n",
      " [1.31298264e-10 2.63444353e-11 1.28150495e-08 4.94369612e-09\n",
      "  3.81613585e-09 7.68403730e-10 7.54525956e-12 9.99902725e-01\n",
      "  2.06554174e-09 9.72124981e-05]\n",
      " [1.41370424e-06 6.28004182e-06 3.32519880e-06 7.17674595e-08\n",
      "  9.47997272e-01 1.26389918e-04 5.02622351e-02 1.05485458e-06\n",
      "  2.40367644e-05 1.57786836e-03]\n",
      " [1.57860999e-11 3.36877713e-11 3.39866233e-07 1.48270518e-09\n",
      "  4.48209425e-09 8.74827411e-09 7.58641942e-14 3.53085063e-08\n",
      "  9.99999642e-01 1.19142574e-09]\n",
      " [5.11769209e-14 9.99759018e-01 1.92727501e-04 3.55585435e-05\n",
      "  4.32324754e-09 1.19208687e-09 1.05058575e-08 8.14527448e-06\n",
      "  4.09137556e-06 3.80657411e-07]\n",
      " [8.09470357e-09 1.15392595e-09 1.06451896e-10 1.19044716e-06\n",
      "  2.21621450e-02 2.75334014e-06 2.09248858e-04 7.93998778e-01\n",
      "  3.13566811e-02 1.52269185e-01]\n",
      " [2.30200234e-11 8.63699015e-08 1.69304235e-06 1.35736336e-05\n",
      "  6.83552344e-08 4.23246856e-05 2.50172438e-10 6.01777350e-10\n",
      "  9.99937892e-01 4.37556128e-06]\n",
      " [6.00209447e-08 6.05011650e-04 5.80622077e-01 3.86982337e-02\n",
      "  5.44660246e-08 4.78370441e-03 1.46566927e-01 5.99964523e-08\n",
      "  2.28721321e-01 2.56253543e-06]\n",
      " [2.64401227e-11 8.22608470e-09 1.37613598e-09 8.73275250e-02\n",
      "  6.61486382e-13 1.40227948e-03 2.88549545e-10 2.41999096e-08\n",
      "  9.11269367e-01 8.39821610e-07]\n",
      " [8.66936078e-10 8.37259881e-15 2.73654734e-08 1.05274349e-08\n",
      "  3.15335512e-07 1.19088162e-09 4.17269032e-11 9.96111453e-01\n",
      "  1.45059300e-06 3.88678419e-03]] batch_ys: [[1. 0. 0. 0. 0. 0. 0. 0. 0. 0.]\n",
      " [0. 0. 0. 0. 0. 0. 0. 1. 0. 0.]\n",
      " [0. 0. 0. 0. 1. 0. 0. 0. 0. 0.]\n",
      " [0. 0. 0. 0. 0. 0. 0. 0. 1. 0.]\n",
      " [0. 1. 0. 0. 0. 0. 0. 0. 0. 0.]\n",
      " [0. 0. 0. 0. 0. 0. 0. 1. 0. 0.]\n",
      " [0. 0. 0. 0. 0. 0. 0. 0. 1. 0.]\n",
      " [0. 0. 0. 0. 0. 0. 1. 0. 0. 0.]\n",
      " [0. 0. 0. 0. 0. 0. 0. 0. 1. 0.]\n",
      " [0. 0. 0. 0. 0. 0. 0. 1. 0. 0.]]\n"
     ]
    },
    {
     "data": {
      "image/png": "[encoded data removed]",
      "text/plain": [
       "<Figure size 432x288 with 1 Axes>"
      ]
     },
     "metadata": {
      "needs_background": "light"
     },
     "output_type": "display_data"
    },
    {
     "data": {
      "image/png": "[encoded data removed]",
      "text/plain": [
       "<Figure size 432x288 with 1 Axes>"
      ]
     },
     "metadata": {
      "needs_background": "light"
     },
     "output_type": "display_data"
    },
    {
     "data": {
      "image/png": "[encoded data removed]",
      "text/plain": [
       "<Figure size 432x288 with 1 Axes>"
      ]
     },
     "metadata": {
      "needs_background": "light"
     },
     "output_type": "display_data"
    },
    {
     "data": {
      "image/png": "[encoded data removed]",
      "text/plain": [
       "<Figure size 432x288 with 1 Axes>"
      ]
     },
     "metadata": {
      "needs_background": "light"
     },
     "output_type": "display_data"
    },
    {
     "data": {
      "image/png": "[encoded data removed]",
      "text/plain": [
       "<Figure size 432x288 with 1 Axes>"
      ]
     },
     "metadata": {
      "needs_background": "light"
     },
     "output_type": "display_data"
    },
    {
     "data": {
      "image/png": "[encoded data removed]",
      "text/plain": [
       "<Figure size 432x288 with 1 Axes>"
      ]
     },
     "metadata": {
      "needs_background": "light"
     },
     "output_type": "display_data"
    },
    {
     "data": {
      "image/png": "[encoded data removed]",
      "text/plain": [
       "<Figure size 432x288 with 1 Axes>"
      ]
     },
     "metadata": {
      "needs_background": "light"
     },
     "output_type": "display_data"
    },
    {
     "data": {
      "image/png": "[encoded data removed]",
      "text/plain": [
       "<Figure size 432x288 with 1 Axes>"
      ]
     },
     "metadata": {
      "needs_background": "light"
     },
     "output_type": "display_data"
    },
    {
     "data": {
      "image/png": "[encoded data removed]",
      "text/plain": [
       "<Figure size 432x288 with 1 Axes>"
      ]
     },
     "metadata": {
      "needs_background": "light"
     },
     "output_type": "display_data"
    },
    {
     "data": {
      "image/png": "[encoded data removed]",
      "text/plain": [
       "<Figure size 432x288 with 1 Axes>"
      ]
     },
     "metadata": {
      "needs_background": "light"
     },
     "output_type": "display_data"
    }
   ],
   "source": [
    "import pylab\n",
    "#读取模型 \n",
    "print(\"Starting 2nd session...\")\n",
    "with tf.Session() as sess2:\n",
    "    # 初始化变量\n",
    "    sess2.run(tf.global_variables_initializer())\n",
    "    # 恢复模型\n",
    "    saver.restore(sess2, model_path)\n",
    "    \n",
    "    # 测试model\n",
    "    correct_prediction = tf.equal(tf.argmax(pred, 1), tf.argmax(y, 1))\n",
    "    # 准确率\n",
    "    accuracy = tf.reduce_mean(tf.cast(correct_prediction, tf.float32))\n",
    "    print(\"Accuracy:\", accuracy.eval({x: mnist.test.images, y: mnist.test.labels}))\n",
    "\n",
    "    output = tf.argmax(pred, 1)\n",
    "    test_range = 10\n",
    "    batch_xs, batch_ys = mnist.train.next_batch(test_range) # 返回 两个手写数字图片\n",
    "    outputval, predv = sess2.run([output, pred], feed_dict={x:batch_xs})\n",
    "    print(\"outputval:\", outputval, \"predv:\", predv, \"batch_ys:\", batch_ys)\n",
    "    \n",
    "    for i in range(test_range):\n",
    "        im = batch_xs[i]\n",
    "        im = im.reshape(-1, 28)\n",
    "        pylab.imshow(im)\n",
    "        pylab.show()"
   ]
  }
 ],
 "metadata": {
  "hide_input": false,
  "kernelspec": {
   "display_name": "tfpy3",
   "language": "python",
   "name": "tfpy3"
  },
  "language_info": {
   "codemirror_mode": {
    "name": "ipython",
    "version": 3
   },
   "file_extension": ".py",
   "mimetype": "text/x-python",
   "name": "python",
   "nbconvert_exporter": "python",
   "pygments_lexer": "ipython3",
   "version": "3.6.2"
  },
  "toc": {
   "base_numbering": 1,
   "nav_menu": {},
   "number_sections": true,
   "sideBar": true,
   "skip_h1_title": false,
   "title_cell": "Table of Contents",
   "title_sidebar": "Contents",
   "toc_cell": false,
   "toc_position": {},
   "toc_section_display": true,
   "toc_window_display": false
  },
  "varInspector": {
   "cols": {
    "lenName": 16,
    "lenType": 16,
    "lenVar": 40
   },
   "kernels_config": {
    "python": {
     "delete_cmd_postfix": "",
     "delete_cmd_prefix": "del ",
     "library": "var_list.py",
     "varRefreshCmd": "print(var_dic_list())"
    },
    "r": {
     "delete_cmd_postfix": ") ",
     "delete_cmd_prefix": "rm(",
     "library": "var_list.r",
     "varRefreshCmd": "cat(var_dic_list()) "
    }
   },
   "types_to_exclude": [
    "module",
    "function",
    "builtin_function_or_method",
    "instance",
    "_Feature"
   ],
   "window_display": false
  }
 },
 "nbformat": 4,
 "nbformat_minor": 2
}
