{
 "cells": [
  {
   "cell_type": "markdown",
   "metadata": {},
   "source": [
    "## 1. 使用Python定义一个矩阵"
   ]
  },
  {
   "cell_type": "code",
   "execution_count": null,
   "metadata": {},
   "outputs": [],
   "source": [
    "import tensorflow as tf\n",
    "import numpy as np\n",
    "\n",
    "#构建3*4的矩阵\n",
    "matrix_1 = np.zeros((3,4))\n",
    "x = tf.constant([[2,2],[2,1]],name='a')\n",
    "y = tf.constant([[0,1],[3,5]],name='b')\n",
    "with tf.Session() as sess:\n",
    "    #点乘运算\n",
    "    w = tf.multiply(x,y)\n",
    "    #矩阵运算\n",
    "    z = tf.matmul(x,y)\n",
    "    a,b = sess.run([w,x])\n",
    "    print(a)\n",
    "    print(b)\n",
    "    print(matrix_1)\n",
    "#     print a\n"
   ]
  },
  {
   "cell_type": "markdown",
   "metadata": {},
   "source": [
    "## 2. 传统函数使用循环性的,巧技性的可以使用矩阵方式来优化\n",
    "\n",
    "**优点:运行速度更高效,代码更简洁**  \n",
    "函数$h_\\theta(x)=\\sum_{j=0}^n \\theta_jx_j$ 在n=2时可展开为$\\theta_0x_0+\\theta_1x_1+\\theta_2x_2$    \n",
    "定义矩阵 $\\theta$ 和X如下,可使用$\\theta$的转置与X的相乘得出同样结果即    \n",
    "$h_\\theta(x)=\\sum_{j=0}^n \\theta_jx_j=\\theta^TX=\\theta_0x_0+\\theta_1x_1+...+\\theta_nx_n$  \n",
    "$\n",
    "  \\theta=\\left[\\begin{matrix}\n",
    "        \\theta_0\\\\\n",
    "        \\theta_1\\\\\n",
    "        ...\\\\\n",
    "        \\theta_2\n",
    "    \\end{matrix}\\right]\n",
    "$\n",
    "$\n",
    "  \\theta^T=\\left[\\begin{matrix}\n",
    "        \\theta_0&\\theta_1&...&\\theta_n\n",
    "    \\end{matrix}\\right]\n",
    "$\n",
    "$\n",
    "  X=\\left[\\begin{matrix}\n",
    "        x_0\\\\\n",
    "        x_1\\\\\n",
    "        ...\\\\\n",
    "        x_n\n",
    "    \\end{matrix}\\right]\n",
    "$\n"
   ]
  },
  {
   "cell_type": "raw",
   "metadata": {},
   "source": []
  }
 ],
 "metadata": {
  "kernelspec": {
   "display_name": "Python 2",
   "language": "python",
   "name": "python2"
  },
  "language_info": {
   "codemirror_mode": {
    "name": "ipython",
    "version": 2
   },
   "file_extension": ".py",
   "mimetype": "text/x-python",
   "name": "python",
   "nbconvert_exporter": "python",
   "pygments_lexer": "ipython2",
   "version": "2.7.15"
  },
  "toc": {
   "base_numbering": 1,
   "nav_menu": {},
   "number_sections": true,
   "sideBar": true,
   "skip_h1_title": false,
   "title_cell": "Table of Contents",
   "title_sidebar": "Contents",
   "toc_cell": false,
   "toc_position": {},
   "toc_section_display": true,
   "toc_window_display": false
  }
 },
 "nbformat": 4,
 "nbformat_minor": 2
}
